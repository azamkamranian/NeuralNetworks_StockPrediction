{
 "cells": [
  {
   "cell_type": "markdown",
   "metadata": {},
   "source": [
    "# Prediction on a specific stock with its trained Model"
   ]
  },
  {
   "cell_type": "markdown",
   "metadata": {},
   "source": [
    "## All Changes"
   ]
  },
  {
   "cell_type": "code",
   "execution_count": 4,
   "metadata": {},
   "outputs": [],
   "source": [
    "name_of_model = 'Model_Amirkabir_Steel.h5'\n",
    "name_od_data = 'newData_Amirkabir_Steel.csv'"
   ]
  },
  {
   "cell_type": "markdown",
   "metadata": {},
   "source": [
    "## Libs"
   ]
  },
  {
   "cell_type": "code",
   "execution_count": 2,
   "metadata": {
    "scrolled": true
   },
   "outputs": [],
   "source": [
    "from tensorflow.keras.models import load_model\n",
    "from sklearn.preprocessing import MinMaxScaler\n",
    "from sklearn import preprocessing\n",
    "from numpy import array\n",
    "import pandas as pd"
   ]
  },
  {
   "cell_type": "markdown",
   "metadata": {},
   "source": [
    "## Load trained model + new data sheet"
   ]
  },
  {
   "cell_type": "code",
   "execution_count": 5,
   "metadata": {},
   "outputs": [],
   "source": [
    "model = load_model(name_of_model)\n",
    "data = pd.read_csv(name_od_data, index_col='<DTYYYYMMDD>', parse_dates=True)\n",
    "data = data.sort_values('<DTYYYYMMDD>',ascending=True)\n",
    "data_test = data[-60:]"
   ]
  },
  {
   "cell_type": "markdown",
   "metadata": {},
   "source": [
    "# Make Prediction by trained Model"
   ]
  },
  {
   "cell_type": "code",
   "execution_count": null,
   "metadata": {},
   "outputs": [],
   "source": [
    "scaler = preprocessing.MinMaxScaler(feature_range = (0, 1))\n",
    "\n",
    "n_features = 4\n",
    "x_test = scaler.fit_transform(data_test[['<HIGH>', '<LOW>', '<VALUE>', '<VOL>']])\n",
    "x_test = x_test.reshape((len(x_test), n_features))\n",
    "y_test = scaler.fit_transform(data_test[['<CLOSE>']])\n",
    "x_input = x_test.reshape((1, 60, n_features))\n",
    "\n",
    "yhat = model.predict(x_input, verbose=1)\n",
    "inverse_yhat = scaler.inverse_transform(yhat)\n",
    "print(\"Prediction of close price for next 7 days of new data: \", inverse_yhat)"
   ]
  }
 ],
 "metadata": {
  "kernelspec": {
   "display_name": "Python (yolo4)",
   "language": "python",
   "name": "yolo4v"
  },
  "language_info": {
   "codemirror_mode": {
    "name": "ipython",
    "version": 3
   },
   "file_extension": ".py",
   "mimetype": "text/x-python",
   "name": "python",
   "nbconvert_exporter": "python",
   "pygments_lexer": "ipython3",
   "version": "3.8.3"
  }
 },
 "nbformat": 4,
 "nbformat_minor": 4
}
